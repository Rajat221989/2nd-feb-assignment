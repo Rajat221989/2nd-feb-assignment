{
 "cells": [
  {
   "cell_type": "markdown",
   "id": "3b175382-10b7-43c5-94f3-ead152716a49",
   "metadata": {},
   "source": [
    "#Q-2 Sum & product of first 10 natural numbers using while loop\n"
   ]
  },
  {
   "cell_type": "code",
   "execution_count": 1,
   "id": "e4650e77-8ca8-4d1e-9a80-da438c0d3aff",
   "metadata": {},
   "outputs": [
    {
     "data": {
      "text/plain": [
       "55"
      ]
     },
     "execution_count": 1,
     "metadata": {},
     "output_type": "execute_result"
    }
   ],
   "source": [
    "n=10\n",
    "i=0\n",
    "counter=1\n",
    "while counter<11:\n",
    "    i = i + counter\n",
    "    counter = counter + 1\n",
    "i    "
   ]
  },
  {
   "cell_type": "code",
   "execution_count": 3,
   "id": "e0a0df0c-b6cd-4629-838a-9e2171d3870e",
   "metadata": {},
   "outputs": [
    {
     "data": {
      "text/plain": [
       "3628800"
      ]
     },
     "execution_count": 3,
     "metadata": {},
     "output_type": "execute_result"
    }
   ],
   "source": [
    "n=10\n",
    "i=1\n",
    "counter=1\n",
    "while counter<11:\n",
    "    i = i * counter\n",
    "    counter = counter + 1\n",
    "i    "
   ]
  },
  {
   "cell_type": "markdown",
   "id": "fcf68da9-3889-447b-a8eb-0d3e6c0b0b70",
   "metadata": {},
   "source": [
    "#Q-2 Sum & product of first 10 natural numbers using for loop¶"
   ]
  },
  {
   "cell_type": "code",
   "execution_count": 4,
   "id": "c9226c4c-2676-4705-91b6-2359a3c0dca7",
   "metadata": {},
   "outputs": [],
   "source": [
    "a=(1,2,3,4,5,6,7,8,9,10)"
   ]
  },
  {
   "cell_type": "code",
   "execution_count": 5,
   "id": "752a7e68-3a7e-4254-bfdb-692ccbe012c3",
   "metadata": {},
   "outputs": [
    {
     "name": "stdout",
     "output_type": "stream",
     "text": [
      "55\n"
     ]
    }
   ],
   "source": [
    "add=0\n",
    "for i in a:\n",
    "    add=add+i\n",
    "print(add)"
   ]
  },
  {
   "cell_type": "code",
   "execution_count": 6,
   "id": "60395ba6-560c-468e-9881-1c588b00d23b",
   "metadata": {},
   "outputs": [
    {
     "name": "stdout",
     "output_type": "stream",
     "text": [
      "3628800\n"
     ]
    }
   ],
   "source": [
    "Pro=1\n",
    "for i in a:\n",
    "    Pro=Pro*i\n",
    "print(Pro) "
   ]
  },
  {
   "cell_type": "markdown",
   "id": "5a4991b4-56af-4389-8ec6-4d70f0da18e9",
   "metadata": {},
   "source": [
    "#Loop function- used in define set of data #for example we have to find the addition of each in the give list"
   ]
  },
  {
   "cell_type": "code",
   "execution_count": 7,
   "id": "f6ceb169-04fb-4e78-9b19-6b506ccc85df",
   "metadata": {},
   "outputs": [],
   "source": [
    "l=[2,3,4,5,6,7,8,9]"
   ]
  },
  {
   "cell_type": "code",
   "execution_count": 8,
   "id": "8b42bfd2-5758-4a21-84ab-0c3a12dbdc7c",
   "metadata": {},
   "outputs": [
    {
     "data": {
      "text/plain": [
       "44"
      ]
     },
     "execution_count": 8,
     "metadata": {},
     "output_type": "execute_result"
    }
   ],
   "source": [
    "addition=0\n",
    "for i in l:\n",
    "    addition=addition+i \n",
    "addition  "
   ]
  },
  {
   "cell_type": "markdown",
   "id": "4454867d-3ba1-416f-86ec-5a1e569e9f17",
   "metadata": {},
   "source": [
    "#While loop is used where we have a range of data\n",
    "We need a list of square values from 1 to 10¶"
   ]
  },
  {
   "cell_type": "code",
   "execution_count": 9,
   "id": "f3774996-9560-43cd-888e-701b074b173a",
   "metadata": {},
   "outputs": [
    {
     "name": "stdout",
     "output_type": "stream",
     "text": [
      "1\n",
      "4\n",
      "9\n",
      "16\n",
      "25\n",
      "36\n",
      "49\n",
      "64\n",
      "81\n",
      "100\n"
     ]
    }
   ],
   "source": [
    "i=1\n",
    "while i<11:\n",
    "    result=i**2\n",
    "    print(result)\n",
    "    i=i+1"
   ]
  },
  {
   "cell_type": "markdown",
   "id": "344cf60a-3666-4160-bc3a-00206f54a5b6",
   "metadata": {},
   "source": [
    "#Q3. Create a python program to compute the electricity bill for a household.\n",
    "The per-unit charges in rupees are as follows: For the first 100 units, the user will be charged Rs. 4.5 per\n",
    "unit, for the next 100 units, the user will be charged Rs. 6 per unit, and for the next 100 units, the user will\n",
    "be charged Rs. 10 per unit, After 300 units and above the user will be charged Rs. 20 per unit."
   ]
  },
  {
   "cell_type": "code",
   "execution_count": 16,
   "id": "75841666-9d2c-4da7-bafa-4df92e9e9a39",
   "metadata": {},
   "outputs": [
    {
     "name": "stdin",
     "output_type": "stream",
     "text": [
      "Units of electricity 310\n"
     ]
    },
    {
     "data": {
      "text/plain": [
       "2250.0"
      ]
     },
     "execution_count": 16,
     "metadata": {},
     "output_type": "execute_result"
    }
   ],
   "source": [
    "n=int(input(\"Units of electricity\"))\n",
    "if n <=100:\n",
    "    Bill= n*4.5\n",
    "elif n > 100 and n <= 200:\n",
    "    Bill = 100*4.5+ (n-100) *6\n",
    "elif n >200 and n <=300:\n",
    "    Bill = 100*4.5 + 100*6+ (n-200) * 10\n",
    "else:\n",
    "    Bill = 100*4.5+ 100*6 + 100*10+ (n-300)*20\n",
    "Bill    \n",
    "\n"
   ]
  },
  {
   "cell_type": "markdown",
   "id": "2a680979-71ae-410f-b2ca-8cc16dcdad9d",
   "metadata": {},
   "source": [
    "#Q4. Create a list of numbers from 1 to 100. Use for loop and while loop to calculate the cube of each\n",
    "number and if the cube of that number is divisible by 4 or 5 then append that number in a list and print\n",
    "that list.\n"
   ]
  },
  {
   "cell_type": "code",
   "execution_count": 51,
   "id": "372f841d-cf38-439d-9aee-a7fdca4cd325",
   "metadata": {},
   "outputs": [],
   "source": [
    "l= [4,8,2,10,12,16,17,18]"
   ]
  },
  {
   "cell_type": "code",
   "execution_count": 63,
   "id": "90f7ef77-3320-45cf-b221-bb678b35ba32",
   "metadata": {},
   "outputs": [
    {
     "name": "stdout",
     "output_type": "stream",
     "text": [
      "[64, 512, 8, 1000, 1728, 4096, 4913, 5832]\n"
     ]
    }
   ],
   "source": [
    "cube=[]\n",
    "for i in l:\n",
    "    cube.append(i**3)\n",
    "    \n",
    "print(cube)   "
   ]
  },
  {
   "cell_type": "code",
   "execution_count": 74,
   "id": "2a5ef116-c781-448b-a67a-c3afd4c6fa0f",
   "metadata": {},
   "outputs": [
    {
     "name": "stdout",
     "output_type": "stream",
     "text": [
      "[4.0, 8.0, 2.0, 10.0, 12.0, 16.0, 18.0]\n"
     ]
    }
   ],
   "source": [
    "new=[]\n",
    "for i in cube:\n",
    "    if i%4==0 or i%5==0:\n",
    "        new.append(round(i**(1/3),1))\n",
    "    \n",
    "print(new)    "
   ]
  },
  {
   "cell_type": "code",
   "execution_count": 75,
   "id": "93c2b5e8-ce25-4c1e-befd-388f9a97e404",
   "metadata": {},
   "outputs": [
    {
     "name": "stdout",
     "output_type": "stream",
     "text": [
      "[64, 512, 8, 1000, 1728, 4096, 4913, 5832, 4.0, 8.0, 2.0, 10.0, 12.0, 16.0, 18.0]\n"
     ]
    }
   ],
   "source": [
    "Final = []\n",
    "final= cube + new\n",
    "print(final)"
   ]
  },
  {
   "cell_type": "markdown",
   "id": "58e7c217-dbb3-45c9-b59d-2370c949d8c4",
   "metadata": {},
   "source": [
    "#Write a program to filter count vowels in the below-given string.\n",
    "string = \"I want to become a data scientist\""
   ]
  },
  {
   "cell_type": "code",
   "execution_count": 1,
   "id": "1b7e3a71-aca0-4c5d-b68d-5a11ae53d2b9",
   "metadata": {},
   "outputs": [
    {
     "name": "stdout",
     "output_type": "stream",
     "text": [
      "11\n"
     ]
    }
   ],
   "source": [
    "s=\"I want to become a data scientist\"\n",
    "vowel=[\"a\",\"e\",\"i\",\"o\",\"u\"]\n",
    "count=0\n",
    "for i in s:\n",
    "    if i in vowel:\n",
    "        count=count+1\n",
    "        \n",
    "print(count)    "
   ]
  }
 ],
 "metadata": {
  "kernelspec": {
   "display_name": "Python 3 (ipykernel)",
   "language": "python",
   "name": "python3"
  },
  "language_info": {
   "codemirror_mode": {
    "name": "ipython",
    "version": 3
   },
   "file_extension": ".py",
   "mimetype": "text/x-python",
   "name": "python",
   "nbconvert_exporter": "python",
   "pygments_lexer": "ipython3",
   "version": "3.10.8"
  }
 },
 "nbformat": 4,
 "nbformat_minor": 5
}
